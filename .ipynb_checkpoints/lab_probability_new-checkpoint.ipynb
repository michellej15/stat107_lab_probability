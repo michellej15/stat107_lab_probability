{
 "cells": [
  {
   "cell_type": "markdown",
   "metadata": {},
   "source": [
    "## Lab: _________"
   ]
  },
  {
   "cell_type": "markdown",
   "metadata": {},
   "source": [
    "### Welcome to The Bellagio!!\n",
    "\n",
    "You and your friends are in Las Vegas for a much needed vacation. As you are walking down the Vegas Strip, you find $100 on the ground. You cannot believe your luck so you decide to test how far your luck will go and decide to the casino and try to make more money. You are pretty confident that you have the skills to win more money by playing Blackjack and Roulette but you want to know what the chances are of winning the game because this is valuable money. So let's find out the chances that you and your friends can make more money with these two games. <br>\n",
    "          \n",
    "    ** For these puzzles, we will assume everyone in your friend group is 21 (no illegal activities here ;) ).**\n"
   ]
  },
  {
   "cell_type": "markdown",
   "metadata": {},
   "source": [
    "### Group <br>\n",
    "\n",
    "Edit the next Python cell to add information about who you're working with in your lab section:"
   ]
  },
  {
   "cell_type": "code",
   "execution_count": 4,
   "metadata": {},
   "outputs": [],
   "source": [
    "ta_name = \"\"\n",
    "ca1_name = \"\"\n",
    "ca2_name = \"\"\n",
    "ca3_name = \"\"\n",
    "\n",
    "partner1_name = \"\"\n",
    "partner1_netid = \"\"\n",
    "partner1_major = \"\"\n",
    "\n",
    "partner2_name = \"\"\n",
    "partner2_netid = \"\"\n",
    "partner2_major = \"\"\n",
    "\n",
    "partner3_name = \"\"\n",
    "partner3_netid = \"\"\n",
    "partner3_major = \"\""
   ]
  },
  {
   "cell_type": "markdown",
   "metadata": {},
   "source": [
    "### Getting Help <br>\n",
    "\n",
    "Remember, there are a lot of ways to get help if you find yourself stuck: <br>\n",
    "1. In your lab section, you can ask your TA or CAs. <br>\n",
    "2. Post your question in the course Discord. <br>\n",
    "3. Office Hours: <br>\n",
    "    - In-person office hours ____________\n",
    "    - Zoom office hours ______________"
   ]
  },
  {
   "cell_type": "markdown",
   "metadata": {},
   "source": [
    "## Table of Contents <a id='toc'></a>\n",
    "\n",
    "**Use the Outline view (View > Command Palette > Type \"outline\") for navigation.**\n",
    "\n",
    "* Puzzle 1\n",
    "* Puzzle 2\n",
    "    * Puzzle 2.1\n",
    "    * Puzzle 2.2\n",
    "    * Puzzle 2.3 \n",
    "* Puzzle 3\n",
    "    * Puzzle 3.1\n",
    "    * Puzzle 3.2\n",
    "    * Puzzle 3.3\n",
    "    * Puzzle 3.4\n",
    "* Extra Credits"
   ]
  },
  {
   "cell_type": "code",
   "execution_count": 2,
   "metadata": {},
   "outputs": [],
   "source": [
    "import pandas as pd"
   ]
  },
  {
   "cell_type": "markdown",
   "metadata": {},
   "source": [
    "## Puzzle 1: Simple Probabilities <br>\n",
    "Before getting into the games, let's find some probabilities for the conditions below.\n",
    "\n",
    "From a well-shuffled deck, what is the probability of drawing a red or a Queen?"
   ]
  },
  {
   "cell_type": "code",
   "execution_count": 1,
   "metadata": {},
   "outputs": [
    {
     "data": {
      "text/plain": [
       "0.5384615384615384"
      ]
     },
     "execution_count": 1,
     "metadata": {},
     "output_type": "execute_result"
    }
   ],
   "source": [
    "#solution\n",
    "total_outcomes = 52\n",
    "correct_outcomes = 26 + 4 - 2\n",
    "prob1 = correct_outcomes / total_outcomes\n",
    "prob1"
   ]
  },
  {
   "cell_type": "markdown",
   "metadata": {},
   "source": [
    "Find the probability of drawing neither a spade nor a jack."
   ]
  },
  {
   "cell_type": "code",
   "execution_count": 2,
   "metadata": {},
   "outputs": [
    {
     "data": {
      "text/plain": [
       "0.6923076923076923"
      ]
     },
     "execution_count": 2,
     "metadata": {},
     "output_type": "execute_result"
    }
   ],
   "source": [
    "#solution\n",
    "total_outcomes = 52\n",
    "correct_outcomes = 39 - 3\n",
    "prob2 = correct_outcomes / total_outcomes\n",
    "prob2"
   ]
  },
  {
   "cell_type": "markdown",
   "metadata": {},
   "source": [
    "What is the probability that we draw one card that is black and 7?"
   ]
  },
  {
   "cell_type": "code",
   "execution_count": 4,
   "metadata": {},
   "outputs": [
    {
     "data": {
      "text/plain": [
       "0.038461538461538464"
      ]
     },
     "execution_count": 4,
     "metadata": {},
     "output_type": "execute_result"
    }
   ],
   "source": [
    "#Solution\n",
    "prob3 = 2/52\n",
    "prob3"
   ]
  },
  {
   "cell_type": "markdown",
   "metadata": {},
   "source": [
    "What about black *or* 7?"
   ]
  },
  {
   "cell_type": "code",
   "execution_count": 5,
   "metadata": {},
   "outputs": [
    {
     "data": {
      "text/plain": [
       "0.5384615384615384"
      ]
     },
     "execution_count": 5,
     "metadata": {},
     "output_type": "execute_result"
    }
   ],
   "source": [
    "#Solution: P(black) + P(7) - P(black or 7)\n",
    "prob4 = (1/2) + (1/13) - (1/26)\n",
    "prob4"
   ]
  },
  {
   "cell_type": "markdown",
   "metadata": {},
   "source": [
    "Lastly, if we draw two cards, what is the probability that the cards are of the same suit?"
   ]
  },
  {
   "cell_type": "code",
   "execution_count": 6,
   "metadata": {},
   "outputs": [
    {
     "data": {
      "text/plain": [
       "0.23529411764705882"
      ]
     },
     "execution_count": 6,
     "metadata": {},
     "output_type": "execute_result"
    }
   ],
   "source": [
    "first_card = (52/52)\n",
    "second_card = (12/51)\n",
    "prob5 = first_card * second_card\n",
    "prob5"
   ]
  },
  {
   "cell_type": "code",
   "execution_count": 9,
   "metadata": {},
   "outputs": [
    {
     "name": "stdout",
     "output_type": "stream",
     "text": [
      "🎉 All tests passed! 🎉\n"
     ]
    }
   ],
   "source": [
    "## == TEST CASES for Puzzle 1 ==\n",
    "# - This read-only cell contains test cases for your previous cells.\n",
    "# - If this cell runs without any error our output, you PASSED all test cases!\n",
    "# - If this cell results in any errors, check you previous cell, make changes, and RE-RUN your code and then this cell.\n",
    "import math\n",
    "assert(math.isclose(prob1, 0.5384615384615384)), \"The probability doesn't seem right. Double check the formula for this probability.\"\n",
    "assert(math.isclose(prob2, 0.6923076923076923)), \"The probability doesn't seem right. Double check the formula for this probability.\"\n",
    "assert(math.isclose(prob3, 0.038461538461538464)), \"The probability doesn't seem right. Double check the formula for this probability.\"\n",
    "assert(math.isclose(prob4, 0.5384615384615384)), \"The probability doesn't seem right. Double check the formula for this probability.\"\n",
    "assert(math.isclose(prob5, 0.23529411764705882)), \"The probability doesn't seem right. Double check the formula for this probability.\"\n",
    "\n",
    "\n",
    "## == SUCCESS MESSAGE ==\n",
    "# You will only see this message (with the emoji showing) if you passed all test cases:\n",
    "tada = \"\\N{PARTY POPPER}\"\n",
    "print(f\"{tada} All tests passed! {tada}\")"
   ]
  },
  {
   "cell_type": "markdown",
   "metadata": {},
   "source": [
    "## Puzzle 2: Blackjack <br>\n",
    "The complete rules of casino blackjack are complicated, so here is a simplified version for the sake of this lab: <br>\n",
    "\n",
    "1) The ultimate goal is to beat the dealer's hand without going over 21.\n",
    "2) Face cards are worth 10, Aces are worth 1 or 11 (you choose whichever makes a better hand), and number cards are worth its value.\n",
    "3) Each player starts with 2 cards; 1 of the dealer's cards is hidden until the end\n",
    "4) You can either \"hit\" (get another card) or \"stand\" (hold your total till the end of your turn)\n",
    "5) Once you hit 21, you bust and the dealer wins no matter what\n",
    "6) If you are dealt 21 from the start, you got blackjack<br>\n",
    "\n",
    "Now that we know the rules, let's move onto the next set of puzzles."
   ]
  },
  {
   "cell_type": "markdown",
   "metadata": {},
   "source": [
    "## Puzzle 2.1 <br>\n",
    "\n",
    "What are the chances of getting dealt a blackjack? <br>\n",
    "\n",
    "*Hint: You need an ace-ten combination (ten is a Ten, Jack, Queen, or King). Order doesn't matter.*"
   ]
  },
  {
   "cell_type": "code",
   "execution_count": 114,
   "metadata": {},
   "outputs": [
    {
     "data": {
      "text/plain": [
       "0.048265460030165915"
      ]
     },
     "execution_count": 114,
     "metadata": {},
     "output_type": "execute_result"
    }
   ],
   "source": [
    "#Solution\n",
    "ace_prob = 4/52\n",
    "ten_prob = 16/51\n",
    "\n",
    "ace_then_ten = ace_prob * ten_prob\n",
    "ten_then_ace = ten_prob * ace_prob\n",
    "\n",
    "dealt_blackjack = ace_then_ten + ten_then_ace\n",
    "dealt_blackjack"
   ]
  },
  {
   "cell_type": "markdown",
   "metadata": {},
   "source": [
    "What are the chances of the dealer also getting a blackjack in the first round?"
   ]
  },
  {
   "cell_type": "code",
   "execution_count": 14,
   "metadata": {},
   "outputs": [
    {
     "data": {
      "text/plain": [
       "7.880075106965864e-06"
      ]
     },
     "execution_count": 14,
     "metadata": {},
     "output_type": "execute_result"
    }
   ],
   "source": [
    "two_blackjacks = dealt_blackjack * ((3/15) / (1225))\n",
    "two_blackjacks"
   ]
  },
  {
   "cell_type": "markdown",
   "metadata": {},
   "source": [
    "What is the probability that you or the dealer don't get a blackjack? "
   ]
  },
  {
   "cell_type": "code",
   "execution_count": 15,
   "metadata": {},
   "outputs": [],
   "source": [
    "no_blackjacks = 1 - two_blackjacks"
   ]
  },
  {
   "cell_type": "code",
   "execution_count": 16,
   "metadata": {},
   "outputs": [
    {
     "name": "stdout",
     "output_type": "stream",
     "text": [
      "🎉 All tests passed! 🎉\n"
     ]
    }
   ],
   "source": [
    "## == TEST CASES for Puzzle 2.1 ==\n",
    "# - This read-only cell contains test cases for your previous cells.\n",
    "# - If this cell runs without any error our output, you PASSED all test cases!\n",
    "# - If this cell results in any errors, check you previous cell, make changes, and RE-RUN your code and then this cell.\n",
    "import math\n",
    "assert(math.isclose(dealt_blackjack, 0.048265460030165915)), \"The probability doesn't seem right. Did you account for a second combination?\"\n",
    "assert(math.isclose(two_blackjacks, 7.880075106965864e-06)), \"The probability doesn't seem right.\"\n",
    "assert(math.isclose(no_blackjacks, 0.999992119924893)), \"The probability doesn't seem right.\"\n",
    "\n",
    "\n",
    "## == SUCCESS MESSAGE ==\n",
    "# You will only see this message (with the emoji showing) if you passed all test cases:\n",
    "tada = \"\\N{PARTY POPPER}\"\n",
    "print(f\"{tada} All tests passed! {tada}\")"
   ]
  },
  {
   "cell_type": "markdown",
   "metadata": {},
   "source": [
    "## Puzzle 2.2 <br>\n",
    "\n",
    "You are dealt a 6 and a Jack. Dealer has 5, what is the chances that a \"hit\" will result in a sum closer to 21 or 21 but not greater?"
   ]
  },
  {
   "cell_type": "code",
   "execution_count": 18,
   "metadata": {},
   "outputs": [
    {
     "data": {
      "text/plain": [
       "0.11458333333333333"
      ]
     },
     "execution_count": 18,
     "metadata": {},
     "output_type": "execute_result"
    }
   ],
   "source": [
    "#solution\n",
    "possible_cards = (22 / 48) * (1 / 4)\n",
    "possible_cards"
   ]
  },
  {
   "cell_type": "markdown",
   "metadata": {},
   "source": [
    "You decide to hit and are dealt a 2. Dealer gets a 7. Should you risk hitting again? <br>Calculate the probability of hitting 21."
   ]
  },
  {
   "cell_type": "code",
   "execution_count": 10,
   "metadata": {},
   "outputs": [
    {
     "data": {
      "text/plain": [
       "0.08695652173913043"
      ]
     },
     "execution_count": 10,
     "metadata": {},
     "output_type": "execute_result"
    }
   ],
   "source": [
    "#Solution\n",
    "hit_21 = (4/46)\n",
    "hit_21"
   ]
  },
  {
   "cell_type": "code",
   "execution_count": 19,
   "metadata": {},
   "outputs": [
    {
     "name": "stdout",
     "output_type": "stream",
     "text": [
      "🎉 All tests passed! 🎉\n"
     ]
    }
   ],
   "source": [
    "## == TEST CASES for Puzzle 2.1 ==\n",
    "# - This read-only cell contains test cases for your previous cells.\n",
    "# - If this cell runs without any error our output, you PASSED all test cases!\n",
    "# - If this cell results in any errors, check you previous cell, make changes, and RE-RUN your code and then this cell.\n",
    "import math\n",
    "assert(math.isclose(possible_cards, 0.11458333333333333)), \"The probability doesn't seem right.\"\n",
    "assert(math.isclose(hit_21, 0.08695652173913043)), \"The probability doesn't seem right.\"\n",
    "\n",
    "\n",
    "## == SUCCESS MESSAGE ==\n",
    "# You will only see this message (with the emoji showing) if you passed all test cases:\n",
    "tada = \"\\N{PARTY POPPER}\"\n",
    "print(f\"{tada} All tests passed! {tada}\")"
   ]
  },
  {
   "cell_type": "markdown",
   "metadata": {},
   "source": [
    "## Puzzle 2.3 <br>\n",
    "Let's visualize the chances of getting a blackjack on the first draw <br><br>\n",
    "In the same folder as this notebook find the dataset cards.csv that is provided and load it as **cards**. <br><br>\n",
    "*For the sake of showing blackjacks on the first draw, Ace cards are worth 11*"
   ]
  },
  {
   "cell_type": "code",
   "execution_count": 108,
   "metadata": {},
   "outputs": [
    {
     "data": {
      "text/html": [
       "<div>\n",
       "<style scoped>\n",
       "    .dataframe tbody tr th:only-of-type {\n",
       "        vertical-align: middle;\n",
       "    }\n",
       "\n",
       "    .dataframe tbody tr th {\n",
       "        vertical-align: top;\n",
       "    }\n",
       "\n",
       "    .dataframe thead th {\n",
       "        text-align: right;\n",
       "    }\n",
       "</style>\n",
       "<table border=\"1\" class=\"dataframe\">\n",
       "  <thead>\n",
       "    <tr style=\"text-align: right;\">\n",
       "      <th></th>\n",
       "      <th>card</th>\n",
       "      <th>value</th>\n",
       "    </tr>\n",
       "  </thead>\n",
       "  <tbody>\n",
       "    <tr>\n",
       "      <th>0</th>\n",
       "      <td>Ace of Hearts</td>\n",
       "      <td>11</td>\n",
       "    </tr>\n",
       "    <tr>\n",
       "      <th>1</th>\n",
       "      <td>Ace of Diamonds</td>\n",
       "      <td>11</td>\n",
       "    </tr>\n",
       "    <tr>\n",
       "      <th>2</th>\n",
       "      <td>Ace of Spades</td>\n",
       "      <td>11</td>\n",
       "    </tr>\n",
       "    <tr>\n",
       "      <th>3</th>\n",
       "      <td>Ace of Clubs</td>\n",
       "      <td>11</td>\n",
       "    </tr>\n",
       "    <tr>\n",
       "      <th>4</th>\n",
       "      <td>Two of Hearts</td>\n",
       "      <td>2</td>\n",
       "    </tr>\n",
       "    <tr>\n",
       "      <th>5</th>\n",
       "      <td>Two of Diamonds</td>\n",
       "      <td>2</td>\n",
       "    </tr>\n",
       "    <tr>\n",
       "      <th>6</th>\n",
       "      <td>Two of Spades</td>\n",
       "      <td>2</td>\n",
       "    </tr>\n",
       "    <tr>\n",
       "      <th>7</th>\n",
       "      <td>Two of Clubs</td>\n",
       "      <td>2</td>\n",
       "    </tr>\n",
       "    <tr>\n",
       "      <th>8</th>\n",
       "      <td>Three of Hearts</td>\n",
       "      <td>3</td>\n",
       "    </tr>\n",
       "    <tr>\n",
       "      <th>9</th>\n",
       "      <td>Three of Diamonds</td>\n",
       "      <td>3</td>\n",
       "    </tr>\n",
       "    <tr>\n",
       "      <th>10</th>\n",
       "      <td>Three of Spades</td>\n",
       "      <td>3</td>\n",
       "    </tr>\n",
       "    <tr>\n",
       "      <th>11</th>\n",
       "      <td>Three of Clubs</td>\n",
       "      <td>3</td>\n",
       "    </tr>\n",
       "    <tr>\n",
       "      <th>12</th>\n",
       "      <td>Four of Hearts</td>\n",
       "      <td>4</td>\n",
       "    </tr>\n",
       "    <tr>\n",
       "      <th>13</th>\n",
       "      <td>Four of Diamonds</td>\n",
       "      <td>4</td>\n",
       "    </tr>\n",
       "    <tr>\n",
       "      <th>14</th>\n",
       "      <td>Four of Spades</td>\n",
       "      <td>4</td>\n",
       "    </tr>\n",
       "    <tr>\n",
       "      <th>15</th>\n",
       "      <td>Four of Clubs</td>\n",
       "      <td>4</td>\n",
       "    </tr>\n",
       "    <tr>\n",
       "      <th>16</th>\n",
       "      <td>Five of Hearts</td>\n",
       "      <td>5</td>\n",
       "    </tr>\n",
       "    <tr>\n",
       "      <th>17</th>\n",
       "      <td>Five of Diamonds</td>\n",
       "      <td>5</td>\n",
       "    </tr>\n",
       "    <tr>\n",
       "      <th>18</th>\n",
       "      <td>Five of Spades</td>\n",
       "      <td>5</td>\n",
       "    </tr>\n",
       "    <tr>\n",
       "      <th>19</th>\n",
       "      <td>Five of Clubs</td>\n",
       "      <td>5</td>\n",
       "    </tr>\n",
       "    <tr>\n",
       "      <th>20</th>\n",
       "      <td>Six of Hearts</td>\n",
       "      <td>6</td>\n",
       "    </tr>\n",
       "    <tr>\n",
       "      <th>21</th>\n",
       "      <td>Six of Diamonds</td>\n",
       "      <td>6</td>\n",
       "    </tr>\n",
       "    <tr>\n",
       "      <th>22</th>\n",
       "      <td>Six of Spades</td>\n",
       "      <td>6</td>\n",
       "    </tr>\n",
       "    <tr>\n",
       "      <th>23</th>\n",
       "      <td>Six of Clubs</td>\n",
       "      <td>6</td>\n",
       "    </tr>\n",
       "    <tr>\n",
       "      <th>24</th>\n",
       "      <td>Seven of Hearts</td>\n",
       "      <td>7</td>\n",
       "    </tr>\n",
       "    <tr>\n",
       "      <th>25</th>\n",
       "      <td>Seven of Diamonds</td>\n",
       "      <td>7</td>\n",
       "    </tr>\n",
       "    <tr>\n",
       "      <th>26</th>\n",
       "      <td>Seven of Spades</td>\n",
       "      <td>7</td>\n",
       "    </tr>\n",
       "    <tr>\n",
       "      <th>27</th>\n",
       "      <td>Seven of Clubs</td>\n",
       "      <td>7</td>\n",
       "    </tr>\n",
       "    <tr>\n",
       "      <th>28</th>\n",
       "      <td>Eight of Hearts</td>\n",
       "      <td>8</td>\n",
       "    </tr>\n",
       "    <tr>\n",
       "      <th>29</th>\n",
       "      <td>Eight of Diamonds</td>\n",
       "      <td>8</td>\n",
       "    </tr>\n",
       "    <tr>\n",
       "      <th>30</th>\n",
       "      <td>Eight of Spades</td>\n",
       "      <td>8</td>\n",
       "    </tr>\n",
       "    <tr>\n",
       "      <th>31</th>\n",
       "      <td>Eight of Clubs</td>\n",
       "      <td>8</td>\n",
       "    </tr>\n",
       "    <tr>\n",
       "      <th>32</th>\n",
       "      <td>Nine of Hearts</td>\n",
       "      <td>9</td>\n",
       "    </tr>\n",
       "    <tr>\n",
       "      <th>33</th>\n",
       "      <td>Nine of Diamonds</td>\n",
       "      <td>9</td>\n",
       "    </tr>\n",
       "    <tr>\n",
       "      <th>34</th>\n",
       "      <td>Nine of Spades</td>\n",
       "      <td>9</td>\n",
       "    </tr>\n",
       "    <tr>\n",
       "      <th>35</th>\n",
       "      <td>Nine of Clubs</td>\n",
       "      <td>9</td>\n",
       "    </tr>\n",
       "    <tr>\n",
       "      <th>36</th>\n",
       "      <td>Ten of Hearts</td>\n",
       "      <td>10</td>\n",
       "    </tr>\n",
       "    <tr>\n",
       "      <th>37</th>\n",
       "      <td>Ten of Diamonds</td>\n",
       "      <td>10</td>\n",
       "    </tr>\n",
       "    <tr>\n",
       "      <th>38</th>\n",
       "      <td>Ten of Spades</td>\n",
       "      <td>10</td>\n",
       "    </tr>\n",
       "    <tr>\n",
       "      <th>39</th>\n",
       "      <td>Ten of Clubs</td>\n",
       "      <td>10</td>\n",
       "    </tr>\n",
       "    <tr>\n",
       "      <th>40</th>\n",
       "      <td>Jack of Hearts</td>\n",
       "      <td>10</td>\n",
       "    </tr>\n",
       "    <tr>\n",
       "      <th>41</th>\n",
       "      <td>Jack of Diamonds</td>\n",
       "      <td>10</td>\n",
       "    </tr>\n",
       "    <tr>\n",
       "      <th>42</th>\n",
       "      <td>Jack of Spades</td>\n",
       "      <td>10</td>\n",
       "    </tr>\n",
       "    <tr>\n",
       "      <th>43</th>\n",
       "      <td>Jack of Clubs</td>\n",
       "      <td>10</td>\n",
       "    </tr>\n",
       "    <tr>\n",
       "      <th>44</th>\n",
       "      <td>Queen of Hearts</td>\n",
       "      <td>10</td>\n",
       "    </tr>\n",
       "    <tr>\n",
       "      <th>45</th>\n",
       "      <td>Queen of Diamonds</td>\n",
       "      <td>10</td>\n",
       "    </tr>\n",
       "    <tr>\n",
       "      <th>46</th>\n",
       "      <td>Queen of Spades</td>\n",
       "      <td>10</td>\n",
       "    </tr>\n",
       "    <tr>\n",
       "      <th>47</th>\n",
       "      <td>Queen of Clubs</td>\n",
       "      <td>10</td>\n",
       "    </tr>\n",
       "    <tr>\n",
       "      <th>48</th>\n",
       "      <td>King of Hearts</td>\n",
       "      <td>10</td>\n",
       "    </tr>\n",
       "    <tr>\n",
       "      <th>49</th>\n",
       "      <td>King of Diamonds</td>\n",
       "      <td>10</td>\n",
       "    </tr>\n",
       "    <tr>\n",
       "      <th>50</th>\n",
       "      <td>King of Spades</td>\n",
       "      <td>10</td>\n",
       "    </tr>\n",
       "    <tr>\n",
       "      <th>51</th>\n",
       "      <td>King of Clubs</td>\n",
       "      <td>10</td>\n",
       "    </tr>\n",
       "  </tbody>\n",
       "</table>\n",
       "</div>"
      ],
      "text/plain": [
       "                 card  value\n",
       "0       Ace of Hearts     11\n",
       "1     Ace of Diamonds     11\n",
       "2       Ace of Spades     11\n",
       "3        Ace of Clubs     11\n",
       "4       Two of Hearts      2\n",
       "5     Two of Diamonds      2\n",
       "6       Two of Spades      2\n",
       "7        Two of Clubs      2\n",
       "8     Three of Hearts      3\n",
       "9   Three of Diamonds      3\n",
       "10    Three of Spades      3\n",
       "11     Three of Clubs      3\n",
       "12     Four of Hearts      4\n",
       "13   Four of Diamonds      4\n",
       "14     Four of Spades      4\n",
       "15      Four of Clubs      4\n",
       "16     Five of Hearts      5\n",
       "17   Five of Diamonds      5\n",
       "18     Five of Spades      5\n",
       "19      Five of Clubs      5\n",
       "20      Six of Hearts      6\n",
       "21    Six of Diamonds      6\n",
       "22      Six of Spades      6\n",
       "23       Six of Clubs      6\n",
       "24    Seven of Hearts      7\n",
       "25  Seven of Diamonds      7\n",
       "26    Seven of Spades      7\n",
       "27     Seven of Clubs      7\n",
       "28    Eight of Hearts      8\n",
       "29  Eight of Diamonds      8\n",
       "30    Eight of Spades      8\n",
       "31     Eight of Clubs      8\n",
       "32     Nine of Hearts      9\n",
       "33   Nine of Diamonds      9\n",
       "34     Nine of Spades      9\n",
       "35      Nine of Clubs      9\n",
       "36      Ten of Hearts     10\n",
       "37    Ten of Diamonds     10\n",
       "38      Ten of Spades     10\n",
       "39       Ten of Clubs     10\n",
       "40     Jack of Hearts     10\n",
       "41   Jack of Diamonds     10\n",
       "42     Jack of Spades     10\n",
       "43      Jack of Clubs     10\n",
       "44    Queen of Hearts     10\n",
       "45  Queen of Diamonds     10\n",
       "46    Queen of Spades     10\n",
       "47     Queen of Clubs     10\n",
       "48     King of Hearts     10\n",
       "49   King of Diamonds     10\n",
       "50     King of Spades     10\n",
       "51      King of Clubs     10"
      ]
     },
     "execution_count": 108,
     "metadata": {},
     "output_type": "execute_result"
    }
   ],
   "source": [
    "import pandas as pd\n",
    "\n",
    "cards = pd.read_csv('cards.csv')\n",
    "cards"
   ]
  },
  {
   "cell_type": "markdown",
   "metadata": {},
   "source": [
    "The following function draws two cards *n* times. Please run the next cell"
   ]
  },
  {
   "cell_type": "code",
   "execution_count": 109,
   "metadata": {},
   "outputs": [],
   "source": [
    "card_list = []\n",
    "value_list = []\n",
    "\n",
    "def draw_cards(n):\n",
    "    for i in range(n):\n",
    "        one_round = cards.sample(2)\n",
    "        drawn_cards = one_round.to_numpy().tolist()\n",
    "        card_list.append(drawn_cards)\n",
    "    return card_list"
   ]
  },
  {
   "cell_type": "markdown",
   "metadata": {},
   "source": [
    "Now randomly sample 50 first round cards by calling the function above"
   ]
  },
  {
   "cell_type": "code",
   "execution_count": 110,
   "metadata": {},
   "outputs": [
    {
     "data": {
      "text/plain": [
       "[[['Nine of Hearts', 9], ['Four of Spades', 4]],\n",
       " [['Seven of Diamonds', 7], ['Ten of Clubs', 10]],\n",
       " [['Ten of Spades', 10], ['Seven of Hearts', 7]],\n",
       " [['Six of Clubs', 6], ['Four of Spades', 4]],\n",
       " [['Three of Spades', 3], ['King of Spades', 10]],\n",
       " [['Queen of Clubs', 10], ['Queen of Spades', 10]],\n",
       " [['King of Hearts', 10], ['Ace of Clubs', 11]],\n",
       " [['Four of Diamonds', 4], ['Six of Clubs', 6]],\n",
       " [['Five of Clubs', 5], ['Eight of Diamonds', 8]],\n",
       " [['Seven of Diamonds', 7], ['Three of Hearts', 3]],\n",
       " [['Queen of Spades', 10], ['Three of Hearts', 3]],\n",
       " [['King of Spades', 10], ['Jack of Spades', 10]],\n",
       " [['Five of Hearts', 5], ['Queen of Clubs', 10]],\n",
       " [['Four of Clubs', 4], ['Six of Spades', 6]],\n",
       " [['Three of Diamonds', 3], ['Jack of Diamonds', 10]],\n",
       " [['Nine of Diamonds', 9], ['Queen of Hearts', 10]],\n",
       " [['Two of Hearts', 2], ['Seven of Clubs', 7]],\n",
       " [['Seven of Clubs', 7], ['Four of Clubs', 4]],\n",
       " [['Seven of Clubs', 7], ['Six of Spades', 6]],\n",
       " [['Seven of Clubs', 7], ['King of Clubs', 10]],\n",
       " [['Eight of Spades', 8], ['Ten of Hearts', 10]],\n",
       " [['Two of Spades', 2], ['Jack of Spades', 10]],\n",
       " [['Four of Clubs', 4], ['Five of Spades', 5]],\n",
       " [['Three of Diamonds', 3], ['Five of Clubs', 5]],\n",
       " [['Queen of Diamonds', 10], ['Ace of Diamonds', 11]],\n",
       " [['Three of Hearts', 3], ['Nine of Hearts', 9]],\n",
       " [['Five of Hearts', 5], ['Seven of Spades', 7]],\n",
       " [['King of Hearts', 10], ['Five of Spades', 5]],\n",
       " [['Five of Hearts', 5], ['Queen of Clubs', 10]],\n",
       " [['Ace of Diamonds', 11], ['Queen of Clubs', 10]],\n",
       " [['Ace of Diamonds', 11], ['Six of Spades', 6]],\n",
       " [['Jack of Hearts', 10], ['King of Clubs', 10]],\n",
       " [['Three of Diamonds', 3], ['Six of Diamonds', 6]],\n",
       " [['Five of Clubs', 5], ['Jack of Spades', 10]],\n",
       " [['Ten of Diamonds', 10], ['Six of Hearts', 6]],\n",
       " [['Ten of Clubs', 10], ['Ten of Diamonds', 10]],\n",
       " [['Nine of Spades', 9], ['Ace of Diamonds', 11]],\n",
       " [['Four of Spades', 4], ['King of Hearts', 10]],\n",
       " [['Ten of Clubs', 10], ['King of Hearts', 10]],\n",
       " [['Four of Clubs', 4], ['Five of Hearts', 5]],\n",
       " [['Queen of Spades', 10], ['Three of Hearts', 3]],\n",
       " [['Two of Clubs', 2], ['Two of Spades', 2]],\n",
       " [['Five of Hearts', 5], ['Two of Hearts', 2]],\n",
       " [['Nine of Spades', 9], ['Eight of Hearts', 8]],\n",
       " [['King of Diamonds', 10], ['Ace of Hearts', 11]],\n",
       " [['Ace of Diamonds', 11], ['Queen of Hearts', 10]],\n",
       " [['Ten of Hearts', 10], ['Eight of Diamonds', 8]],\n",
       " [['Two of Clubs', 2], ['Five of Diamonds', 5]],\n",
       " [['Ace of Diamonds', 11], ['Ten of Spades', 10]],\n",
       " [['Ten of Hearts', 10], ['King of Spades', 10]]]"
      ]
     },
     "execution_count": 110,
     "metadata": {},
     "output_type": "execute_result"
    }
   ],
   "source": [
    "card_list = draw_cards(50)\n",
    "card_list"
   ]
  },
  {
   "cell_type": "markdown",
   "metadata": {},
   "source": [
    "Let's create a histogram to view the sum of card_list. Run the cell below"
   ]
  },
  {
   "cell_type": "code",
   "execution_count": 111,
   "metadata": {},
   "outputs": [
    {
     "data": {
      "image/png": "[encoded data removed]",
      "text/plain": [
       "<Figure size 432x288 with 1 Axes>"
      ]
     },
     "metadata": {
      "needs_background": "light"
     },
     "output_type": "display_data"
    }
   ],
   "source": [
    "from matplotlib import pyplot as plt\n",
    "\n",
    "sum_cards = []\n",
    "groups = [card_list[i:i + 2] for i in range(0, len(card_list), 2)]\n",
    "for l in groups:\n",
    "    for element in l:\n",
    "        first = element[0]\n",
    "        second = element[1]\n",
    "        sums = first[1] + second[1]\n",
    "        sum_cards.append(sums)\n",
    "sum_cards = pd.DataFrame(sum_cards)\n",
    "sum_cards.columns = ['sum']\n",
    "plt.hist(sum_cards)\n",
    "plt.show()"
   ]
  },
  {
   "cell_type": "markdown",
   "metadata": {},
   "source": [
    "Did your random draw result in any draws that were exactly 21? <br>\n",
    "\n",
    "*Hint: perform a conditional for the column `sum` in **sum_cards***"
   ]
  },
  {
   "cell_type": "code",
   "execution_count": 112,
   "metadata": {},
   "outputs": [
    {
     "data": {
      "text/html": [
       "<div>\n",
       "<style scoped>\n",
       "    .dataframe tbody tr th:only-of-type {\n",
       "        vertical-align: middle;\n",
       "    }\n",
       "\n",
       "    .dataframe tbody tr th {\n",
       "        vertical-align: top;\n",
       "    }\n",
       "\n",
       "    .dataframe thead th {\n",
       "        text-align: right;\n",
       "    }\n",
       "</style>\n",
       "<table border=\"1\" class=\"dataframe\">\n",
       "  <thead>\n",
       "    <tr style=\"text-align: right;\">\n",
       "      <th></th>\n",
       "      <th>sum</th>\n",
       "    </tr>\n",
       "  </thead>\n",
       "  <tbody>\n",
       "    <tr>\n",
       "      <th>6</th>\n",
       "      <td>21</td>\n",
       "    </tr>\n",
       "    <tr>\n",
       "      <th>24</th>\n",
       "      <td>21</td>\n",
       "    </tr>\n",
       "    <tr>\n",
       "      <th>29</th>\n",
       "      <td>21</td>\n",
       "    </tr>\n",
       "    <tr>\n",
       "      <th>44</th>\n",
       "      <td>21</td>\n",
       "    </tr>\n",
       "    <tr>\n",
       "      <th>45</th>\n",
       "      <td>21</td>\n",
       "    </tr>\n",
       "    <tr>\n",
       "      <th>48</th>\n",
       "      <td>21</td>\n",
       "    </tr>\n",
       "  </tbody>\n",
       "</table>\n",
       "</div>"
      ],
      "text/plain": [
       "    sum\n",
       "6    21\n",
       "24   21\n",
       "29   21\n",
       "44   21\n",
       "45   21\n",
       "48   21"
      ]
     },
     "execution_count": 112,
     "metadata": {},
     "output_type": "execute_result"
    }
   ],
   "source": [
    "got_21 = sum_cards[sum_cards['sum'] == 21]\n",
    "got_21"
   ]
  },
  {
   "cell_type": "markdown",
   "metadata": {},
   "source": [
    "What was the probability of getting 21 in the 50 draws?"
   ]
  },
  {
   "cell_type": "code",
   "execution_count": 113,
   "metadata": {},
   "outputs": [
    {
     "data": {
      "text/plain": [
       "0.12"
      ]
     },
     "execution_count": 113,
     "metadata": {},
     "output_type": "execute_result"
    }
   ],
   "source": [
    "len(got_21) / len(sum_cards)"
   ]
  },
  {
   "cell_type": "markdown",
   "metadata": {},
   "source": [
    "## Puzzle 3: Roulette <br>\n",
    "Let's move onto another game! <br>\n",
    "Now you decide to play Roulette. Here are the rules for our purposes:\n",
    "1. There are 36 numbered slots in the carousel and 1 green slot: \"0\" (37 slots total).\n",
    "2. Landing on the green slot means that you lose all your bets.\n",
    "3. There are two types of bets: Inside and Outside <br>\n",
    "    a. Inside: \"Straight\" bets are bets placed on a single number. \"Split\" bets are bets placed on two numbers that are next to each other on the table. (This is it for our game) <br>\n",
    "    b. Outside: \"Red or Black\" are bets on the color of the winning number. \"Odd or Even\" are bets on the winning number being odd or even. \"1 to 18 or 19 to 36\" are bets on whether the winning number will be high or low. (This is it for our game)\n",
    "4. Payouts: <br>\n",
    "    a. For a straight bet, you win $35 for every $1 bet.\n",
    "    b. For a split bet, you win $17 for every $1 bet.\n",
    "    c. For both outside bets, you win $1 for every $1 bet."
   ]
  },
  {
   "cell_type": "markdown",
   "metadata": {},
   "source": [
    "*will insert image here*"
   ]
  },
  {
   "cell_type": "markdown",
   "metadata": {},
   "source": [
    "## Puzzle 3.1 <br>\n",
    "Starting simple, if we bet $1 on red and green or black occurs, we lose the dollar. Simple right?"
   ]
  },
  {
   "cell_type": "markdown",
   "metadata": {},
   "source": [
    "Calculate the expected value of betting $1 on red:"
   ]
  },
  {
   "cell_type": "code",
   "execution_count": 1,
   "metadata": {},
   "outputs": [
    {
     "data": {
      "text/plain": [
       "-0.027027027027026973"
      ]
     },
     "execution_count": 1,
     "metadata": {},
     "output_type": "execute_result"
    }
   ],
   "source": [
    "#solution\n",
    "#P(Red) * P(value of X for red) + P(not red) * (value of X for red)\n",
    "red_ev = (18/37) * 1 + (19/37) * (-1)\n",
    "red_ev"
   ]
  },
  {
   "cell_type": "code",
   "execution_count": 2,
   "metadata": {},
   "outputs": [
    {
     "name": "stdout",
     "output_type": "stream",
     "text": [
      "🎉 All tests passed! 🎉\n"
     ]
    }
   ],
   "source": [
    "## == TEST CASES for Puzzle 3.1 ==\n",
    "# - This read-only cell contains test cases for your previous cells.\n",
    "# - If this cell runs without any error our output, you PASSED all test cases!\n",
    "# - If this cell results in any errors, check you previous cell, make changes, and RE-RUN your code and then this cell.\n",
    "import math\n",
    "assert(math.isclose(red_ev, -0.027027027027026973)), \"The probability doesn't seem right. Did you account for a 'not red' probability?\"\n",
    "\n",
    "## == SUCCESS MESSAGE ==\n",
    "# You will only see this message (with the emoji showing) if you passed all test cases:\n",
    "tada = \"\\N{PARTY POPPER}\"\n",
    "print(f\"{tada} All tests passed! {tada}\")"
   ]
  },
  {
   "cell_type": "markdown",
   "metadata": {},
   "source": [
    "## Puzzle 3.2 <br>\n",
    "Now let us up our bet. We want to bet $100 on the number 7 and find the expected value for this bet. Find the following probabilities:"
   ]
  },
  {
   "cell_type": "code",
   "execution_count": 21,
   "metadata": {},
   "outputs": [],
   "source": [
    "#probability of getting a 7\n",
    "prob_of_7 = 1/37\n",
    "#probability of not getting a 7\n",
    "prob_of_not_7 = 36/37\n",
    "\n",
    "#money won if you do land of a 7\n",
    "winnings_if_7 = 3500\n",
    "#money lost if you do not land on a 7\n",
    "winnings_if_not_7 = -100"
   ]
  },
  {
   "cell_type": "markdown",
   "metadata": {},
   "source": [
    "Now calculate the expected value:"
   ]
  },
  {
   "cell_type": "code",
   "execution_count": 22,
   "metadata": {},
   "outputs": [
    {
     "data": {
      "text/plain": [
       "-2.702702702702709"
      ]
     },
     "execution_count": 22,
     "metadata": {},
     "output_type": "execute_result"
    }
   ],
   "source": [
    "expected_value = (prob_of_7*winnings_if_7) + (prob_of_not_7 * winnings_if_not_7)\n",
    "expected_value"
   ]
  },
  {
   "cell_type": "code",
   "execution_count": 23,
   "metadata": {},
   "outputs": [
    {
     "name": "stdout",
     "output_type": "stream",
     "text": [
      "🎉 All tests passed! 🎉\n"
     ]
    }
   ],
   "source": [
    "## == TEST CASES for Puzzle 3.2 ==\n",
    "# - This read-only cell contains test cases for your previous cells.\n",
    "# - If this cell runs without any error our output, you PASSED all test cases!\n",
    "# - If this cell results in any errors, check you previous cell, make changes, and RE-RUN your code and then this cell.\n",
    "import math\n",
    "assert(math.isclose(expected_value, -2.702702702702709)), \"The probability doesn't seem right. Please check your probabilities and winnings.\"\n",
    "\n",
    "## == SUCCESS MESSAGE ==\n",
    "# You will only see this message (with the emoji showing) if you passed all test cases:\n",
    "tada = \"\\N{PARTY POPPER}\"\n",
    "print(f\"{tada} All tests passed! {tada}\")"
   ]
  },
  {
   "cell_type": "markdown",
   "metadata": {},
   "source": [
    "## Puzzle 3.3\n",
    "Let's try making a *split bet*. <br> <br>\n",
    "Calculate the probability of winning if we place a split bet:"
   ]
  },
  {
   "cell_type": "code",
   "execution_count": 2,
   "metadata": {},
   "outputs": [
    {
     "data": {
      "text/plain": [
       "0.05405405405405406"
      ]
     },
     "execution_count": 2,
     "metadata": {},
     "output_type": "execute_result"
    }
   ],
   "source": [
    "win = 2\n",
    "lose = (2 + 35)\n",
    "prob_of_win = win / lose\n",
    "prob_of_win"
   ]
  },
  {
   "cell_type": "markdown",
   "metadata": {},
   "source": [
    "Find the expected value if we bet $50 on 10 and 11:"
   ]
  },
  {
   "cell_type": "code",
   "execution_count": 5,
   "metadata": {},
   "outputs": [
    {
     "data": {
      "text/plain": [
       "-1.3513513513513473"
      ]
     },
     "execution_count": 5,
     "metadata": {},
     "output_type": "execute_result"
    }
   ],
   "source": [
    "prob_lose = 1 - prob_of_win\n",
    "exp_val = ((50*17)*(prob_of_win)) + (-50*prob_lose)\n",
    "exp_val"
   ]
  },
  {
   "cell_type": "code",
   "execution_count": 6,
   "metadata": {},
   "outputs": [
    {
     "name": "stdout",
     "output_type": "stream",
     "text": [
      "🎉 All tests passed! 🎉\n"
     ]
    }
   ],
   "source": [
    "## == TEST CASES for Puzzle 3.3 ==\n",
    "# - This read-only cell contains test cases for your previous cells.\n",
    "# - If this cell runs without any error our output, you PASSED all test cases!\n",
    "# - If this cell results in any errors, check you previous cell, make changes, and RE-RUN your code and then this cell.\n",
    "import math\n",
    "assert(math.isclose(exp_val, -1.3513513513513473)), \"The probability doesn't seem right. Please check your probabilities and winnings.\"\n",
    "\n",
    "## == SUCCESS MESSAGE ==\n",
    "# You will only see this message (with the emoji showing) if you passed all test cases:\n",
    "tada = \"\\N{PARTY POPPER}\"\n",
    "print(f\"{tada} All tests passed! {tada}\")"
   ]
  },
  {
   "cell_type": "markdown",
   "metadata": {},
   "source": [
    "## Puzzle 3.4 <br>\n",
    "Is it more likely that to make a profit if we place a split bet or straight bet?"
   ]
  },
  {
   "cell_type": "markdown",
   "metadata": {},
   "source": [
    "***Double click this cell and type your answer here.***"
   ]
  },
  {
   "cell_type": "markdown",
   "metadata": {},
   "source": [
    "## Finale! <br>\n",
    "You're almost done -- congratulations! <br><br>\n",
    "You need to do three more things:\n",
    "1. Save your work. To do this, go to **File -> Save All**\n",
    "2. After you have saved, exit this notebook and follow the webpage instructions to commit this lab to your Git repository!\n",
    "3. After you have updated your Git repository, check your submission in your GitHub repository online to verify it was successful!"
   ]
  }
 ],
 "metadata": {
  "interpreter": {
   "hash": "dc2da5db0598e706bf5bcb9271ba8d080dee7c25dd8fc7004ee8392c39cdcb61"
  },
  "kernelspec": {
   "display_name": "Python 3 (ipykernel)",
   "language": "python",
   "name": "python3"
  },
  "language_info": {
   "codemirror_mode": {
    "name": "ipython",
    "version": 3
   },
   "file_extension": ".py",
   "mimetype": "text/x-python",
   "name": "python",
   "nbconvert_exporter": "python",
   "pygments_lexer": "ipython3",
   "version": "3.9.7"
  }
 },
 "nbformat": 4,
 "nbformat_minor": 4
}
